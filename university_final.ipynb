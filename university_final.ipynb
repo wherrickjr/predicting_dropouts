{
 "cells": [
  {
   "cell_type": "markdown",
   "id": "da27bc58",
   "metadata": {},
   "source": [
    "# University Graduation Predictions"
   ]
  },
  {
   "cell_type": "markdown",
   "id": "26cda7fd",
   "metadata": {},
   "source": [
    "## Project goals:"
   ]
  },
  {
   "cell_type": "markdown",
   "id": "b728a28b",
   "metadata": {},
   "source": [
    "<div class=\"alert alert-block alert-info\">\n",
    "<b>Highlights:</b>\n",
    "</br>\n",
    "\n",
    "* identify features of wine that influence whether or not a student graduates.\n",
    "</br>\n",
    "\n",
    "* Visualize relationships between variables\n",
    "</br>\n",
    "\n",
    "* use classification models to predict whether or not a student graduates."
   ]
  },
  {
   "cell_type": "code",
   "execution_count": 1,
   "id": "9866fea8",
   "metadata": {},
   "outputs": [],
   "source": [
    "import pandas as pd\n",
    "import seaborn as sns\n",
    "import matplotlib.pyplot as plt\n",
    "from scipy import stats\n",
    "import numpy as np\n",
    "import project\n",
    "import sklearn.preprocessing\n",
    "import warnings\n",
    "warnings.filterwarnings(\"ignore\")\n"
   ]
  },
  {
   "cell_type": "markdown",
   "id": "4decdde0",
   "metadata": {},
   "source": [
    "## Acquire"
   ]
  },
  {
   "cell_type": "markdown",
   "id": "b2049865",
   "metadata": {},
   "source": [
    "<div class=\"alert alert-block alert-info\">\n",
    "<b>Highlights:</b>\n",
    "</br>\n",
    "\n",
    "* Data was obtained from kaggle.com\n",
    "</br>\n",
    "\n",
    "* Data was obtained 2/13/2023\n",
    "</br>\n",
    "\n",
    "* Dataframe had 4,424 rows by 35 columns before preparing\n",
    "</br>\n",
    "\n",
    "* Each row represents a studen and each column is a feature of that student\n",
    "    "
   ]
  },
  {
   "cell_type": "code",
   "execution_count": 2,
   "id": "55779432",
   "metadata": {},
   "outputs": [],
   "source": [
    "df = project.acquire_grads()\n",
    "# this function acquires data from csv file in repo"
   ]
  },
  {
   "cell_type": "markdown",
   "id": "3250358b",
   "metadata": {},
   "source": [
    "# Prepare"
   ]
  },
  {
   "cell_type": "markdown",
   "id": "239e5235",
   "metadata": {},
   "source": [
    "<div class=\"alert alert-block alert-info\">\n",
    "<b>Highlights:</b>\n",
    "</br>\n",
    "\n",
    "* There were no null values in the dataset\n",
    "</br>\n",
    "\n",
    "* Numeric values were changed to their string equivalents\n",
    "</br>\n",
    "\n",
    "* to see changes, view project.py file\n",
    "</br>\n",
    "\n",
    "    "
   ]
  },
  {
   "cell_type": "code",
   "execution_count": 3,
   "id": "baa1a8c4",
   "metadata": {},
   "outputs": [
    {
     "data": {
      "text/html": [
       "<div>\n",
       "<style scoped>\n",
       "    .dataframe tbody tr th:only-of-type {\n",
       "        vertical-align: middle;\n",
       "    }\n",
       "\n",
       "    .dataframe tbody tr th {\n",
       "        vertical-align: top;\n",
       "    }\n",
       "\n",
       "    .dataframe thead th {\n",
       "        text-align: right;\n",
       "    }\n",
       "</style>\n",
       "<table border=\"1\" class=\"dataframe\">\n",
       "  <thead>\n",
       "    <tr style=\"text-align: right;\">\n",
       "      <th></th>\n",
       "      <th>Marital status</th>\n",
       "      <th>Course</th>\n",
       "      <th>Daytime/evening attendance</th>\n",
       "      <th>Previous qualification</th>\n",
       "      <th>Nacionality</th>\n",
       "      <th>Mother's qualification</th>\n",
       "      <th>Father's qualification</th>\n",
       "      <th>Mother's occupation</th>\n",
       "      <th>Father's occupation</th>\n",
       "      <th>Educational special needs</th>\n",
       "      <th>Tuition fees up to date</th>\n",
       "      <th>Gender</th>\n",
       "      <th>Scholarship holder</th>\n",
       "      <th>Age at enrollment</th>\n",
       "      <th>Target</th>\n",
       "    </tr>\n",
       "  </thead>\n",
       "  <tbody>\n",
       "    <tr>\n",
       "      <th>0</th>\n",
       "      <td>single</td>\n",
       "      <td>Animation</td>\n",
       "      <td>1</td>\n",
       "      <td>high school only</td>\n",
       "      <td>european</td>\n",
       "      <td>no high school</td>\n",
       "      <td>no high school</td>\n",
       "      <td>service</td>\n",
       "      <td>trade</td>\n",
       "      <td>0</td>\n",
       "      <td>1</td>\n",
       "      <td>1</td>\n",
       "      <td>0</td>\n",
       "      <td>20</td>\n",
       "      <td>Dropout</td>\n",
       "    </tr>\n",
       "    <tr>\n",
       "      <th>1</th>\n",
       "      <td>single</td>\n",
       "      <td>tourism</td>\n",
       "      <td>1</td>\n",
       "      <td>high school only</td>\n",
       "      <td>european</td>\n",
       "      <td>high school only</td>\n",
       "      <td>bachelor's degree</td>\n",
       "      <td>STEM</td>\n",
       "      <td>STEM</td>\n",
       "      <td>0</td>\n",
       "      <td>0</td>\n",
       "      <td>1</td>\n",
       "      <td>0</td>\n",
       "      <td>19</td>\n",
       "      <td>Graduate</td>\n",
       "    </tr>\n",
       "    <tr>\n",
       "      <th>2</th>\n",
       "      <td>single</td>\n",
       "      <td>communication</td>\n",
       "      <td>1</td>\n",
       "      <td>high school only</td>\n",
       "      <td>european</td>\n",
       "      <td>no high school</td>\n",
       "      <td>no high school</td>\n",
       "      <td>trade</td>\n",
       "      <td>trade</td>\n",
       "      <td>0</td>\n",
       "      <td>0</td>\n",
       "      <td>1</td>\n",
       "      <td>0</td>\n",
       "      <td>19</td>\n",
       "      <td>Dropout</td>\n",
       "    </tr>\n",
       "    <tr>\n",
       "      <th>3</th>\n",
       "      <td>single</td>\n",
       "      <td>communication</td>\n",
       "      <td>1</td>\n",
       "      <td>high school only</td>\n",
       "      <td>european</td>\n",
       "      <td>no high school</td>\n",
       "      <td>no high school</td>\n",
       "      <td>service</td>\n",
       "      <td>STEM</td>\n",
       "      <td>0</td>\n",
       "      <td>1</td>\n",
       "      <td>0</td>\n",
       "      <td>0</td>\n",
       "      <td>20</td>\n",
       "      <td>Graduate</td>\n",
       "    </tr>\n",
       "    <tr>\n",
       "      <th>4</th>\n",
       "      <td>married</td>\n",
       "      <td>social service</td>\n",
       "      <td>0</td>\n",
       "      <td>high school only</td>\n",
       "      <td>european</td>\n",
       "      <td>no high school</td>\n",
       "      <td>no high school</td>\n",
       "      <td>trade</td>\n",
       "      <td>trade</td>\n",
       "      <td>0</td>\n",
       "      <td>1</td>\n",
       "      <td>0</td>\n",
       "      <td>0</td>\n",
       "      <td>45</td>\n",
       "      <td>Graduate</td>\n",
       "    </tr>\n",
       "    <tr>\n",
       "      <th>...</th>\n",
       "      <td>...</td>\n",
       "      <td>...</td>\n",
       "      <td>...</td>\n",
       "      <td>...</td>\n",
       "      <td>...</td>\n",
       "      <td>...</td>\n",
       "      <td>...</td>\n",
       "      <td>...</td>\n",
       "      <td>...</td>\n",
       "      <td>...</td>\n",
       "      <td>...</td>\n",
       "      <td>...</td>\n",
       "      <td>...</td>\n",
       "      <td>...</td>\n",
       "      <td>...</td>\n",
       "    </tr>\n",
       "    <tr>\n",
       "      <th>4419</th>\n",
       "      <td>single</td>\n",
       "      <td>communication</td>\n",
       "      <td>1</td>\n",
       "      <td>high school only</td>\n",
       "      <td>european</td>\n",
       "      <td>high school only</td>\n",
       "      <td>high school only</td>\n",
       "      <td>service</td>\n",
       "      <td>service</td>\n",
       "      <td>0</td>\n",
       "      <td>1</td>\n",
       "      <td>1</td>\n",
       "      <td>0</td>\n",
       "      <td>19</td>\n",
       "      <td>Graduate</td>\n",
       "    </tr>\n",
       "    <tr>\n",
       "      <th>4420</th>\n",
       "      <td>single</td>\n",
       "      <td>communication</td>\n",
       "      <td>1</td>\n",
       "      <td>high school only</td>\n",
       "      <td>asian</td>\n",
       "      <td>high school only</td>\n",
       "      <td>high school only</td>\n",
       "      <td>trade</td>\n",
       "      <td>trade</td>\n",
       "      <td>0</td>\n",
       "      <td>0</td>\n",
       "      <td>0</td>\n",
       "      <td>0</td>\n",
       "      <td>18</td>\n",
       "      <td>Dropout</td>\n",
       "    </tr>\n",
       "    <tr>\n",
       "      <th>4421</th>\n",
       "      <td>single</td>\n",
       "      <td>nursing</td>\n",
       "      <td>1</td>\n",
       "      <td>high school only</td>\n",
       "      <td>european</td>\n",
       "      <td>no high school</td>\n",
       "      <td>no high school</td>\n",
       "      <td>trade</td>\n",
       "      <td>trade</td>\n",
       "      <td>0</td>\n",
       "      <td>1</td>\n",
       "      <td>0</td>\n",
       "      <td>1</td>\n",
       "      <td>30</td>\n",
       "      <td>Dropout</td>\n",
       "    </tr>\n",
       "    <tr>\n",
       "      <th>4422</th>\n",
       "      <td>single</td>\n",
       "      <td>management</td>\n",
       "      <td>1</td>\n",
       "      <td>high school only</td>\n",
       "      <td>european</td>\n",
       "      <td>no high school</td>\n",
       "      <td>no high school</td>\n",
       "      <td>trade</td>\n",
       "      <td>service</td>\n",
       "      <td>0</td>\n",
       "      <td>1</td>\n",
       "      <td>0</td>\n",
       "      <td>1</td>\n",
       "      <td>20</td>\n",
       "      <td>Graduate</td>\n",
       "    </tr>\n",
       "    <tr>\n",
       "      <th>4423</th>\n",
       "      <td>single</td>\n",
       "      <td>communication</td>\n",
       "      <td>1</td>\n",
       "      <td>high school only</td>\n",
       "      <td>african</td>\n",
       "      <td>no high school</td>\n",
       "      <td>no high school</td>\n",
       "      <td>service</td>\n",
       "      <td>trade</td>\n",
       "      <td>0</td>\n",
       "      <td>1</td>\n",
       "      <td>0</td>\n",
       "      <td>0</td>\n",
       "      <td>22</td>\n",
       "      <td>Graduate</td>\n",
       "    </tr>\n",
       "  </tbody>\n",
       "</table>\n",
       "<p>3630 rows × 15 columns</p>\n",
       "</div>"
      ],
      "text/plain": [
       "     Marital status          Course  Daytime/evening attendance  \\\n",
       "0            single       Animation                           1   \n",
       "1            single         tourism                           1   \n",
       "2            single   communication                           1   \n",
       "3            single   communication                           1   \n",
       "4           married  social service                           0   \n",
       "...             ...             ...                         ...   \n",
       "4419         single   communication                           1   \n",
       "4420         single   communication                           1   \n",
       "4421         single         nursing                           1   \n",
       "4422         single      management                           1   \n",
       "4423         single   communication                           1   \n",
       "\n",
       "     Previous qualification Nacionality Mother's qualification  \\\n",
       "0          high school only    european         no high school   \n",
       "1          high school only    european       high school only   \n",
       "2          high school only    european         no high school   \n",
       "3          high school only    european         no high school   \n",
       "4          high school only    european         no high school   \n",
       "...                     ...         ...                    ...   \n",
       "4419       high school only    european       high school only   \n",
       "4420       high school only       asian       high school only   \n",
       "4421       high school only    european         no high school   \n",
       "4422       high school only    european         no high school   \n",
       "4423       high school only     african         no high school   \n",
       "\n",
       "     Father's qualification Mother's occupation Father's occupation  \\\n",
       "0            no high school             service               trade   \n",
       "1         bachelor's degree                STEM                STEM   \n",
       "2            no high school               trade               trade   \n",
       "3            no high school             service                STEM   \n",
       "4            no high school               trade               trade   \n",
       "...                     ...                 ...                 ...   \n",
       "4419       high school only             service             service   \n",
       "4420       high school only               trade               trade   \n",
       "4421         no high school               trade               trade   \n",
       "4422         no high school               trade             service   \n",
       "4423         no high school             service               trade   \n",
       "\n",
       "      Educational special needs  Tuition fees up to date  Gender  \\\n",
       "0                             0                        1       1   \n",
       "1                             0                        0       1   \n",
       "2                             0                        0       1   \n",
       "3                             0                        1       0   \n",
       "4                             0                        1       0   \n",
       "...                         ...                      ...     ...   \n",
       "4419                          0                        1       1   \n",
       "4420                          0                        0       0   \n",
       "4421                          0                        1       0   \n",
       "4422                          0                        1       0   \n",
       "4423                          0                        1       0   \n",
       "\n",
       "      Scholarship holder  Age at enrollment    Target  \n",
       "0                      0                 20   Dropout  \n",
       "1                      0                 19  Graduate  \n",
       "2                      0                 19   Dropout  \n",
       "3                      0                 20  Graduate  \n",
       "4                      0                 45  Graduate  \n",
       "...                  ...                ...       ...  \n",
       "4419                   0                 19  Graduate  \n",
       "4420                   0                 18   Dropout  \n",
       "4421                   1                 30   Dropout  \n",
       "4422                   1                 20  Graduate  \n",
       "4423                   0                 22  Graduate  \n",
       "\n",
       "[3630 rows x 15 columns]"
      ]
     },
     "execution_count": 3,
     "metadata": {},
     "output_type": "execute_result"
    }
   ],
   "source": [
    "df = project.prep_grads(df)\n",
    "df\n",
    "#this function changes most of the numeric values and replaces them with the words\n",
    "# it also drops some unecessary columns"
   ]
  },
  {
   "cell_type": "markdown",
   "id": "52596867",
   "metadata": {},
   "source": [
    "# Exploration"
   ]
  },
  {
   "cell_type": "markdown",
   "id": "30251c0c",
   "metadata": {},
   "source": [
    "* Does marital status effect graduation?\n",
    "* Does age at enrollment affect graduation?\n",
    "* Does nationality affect graduation?\n",
    "* Does mother' occupation level affect graduation?\n",
    "* Does father's education affect graduation?"
   ]
  },
  {
   "cell_type": "markdown",
   "id": "5e3aa7e6",
   "metadata": {},
   "source": [
    "## Does marital status affect graduation?"
   ]
  },
  {
   "cell_type": "code",
   "execution_count": 4,
   "id": "f81b54d2",
   "metadata": {},
   "outputs": [
    {
     "data": {
      "image/png": "[encoded data removed]",
      "text/plain": [
       "<Figure size 618.75x500 with 1 Axes>"
      ]
     },
     "metadata": {},
     "output_type": "display_data"
    }
   ],
   "source": [
    "project.count_plots(df, 'Marital status', 'Target')\n",
    "plt.title('Marital status vs Graduation')\n",
    "plt.show()\n",
    "#visual of percentage of each marital status that droped out of graduated"
   ]
  },
  {
   "cell_type": "markdown",
   "id": "7f2123f1",
   "metadata": {},
   "source": [
    "### Chi squared test to determine if a relationship exists between Marital status and Graduation\n",
    "\n",
    "$H_0$ : There is no relationship between marital status and graduation\n",
    "\n",
    "$H_a$ : There is a relationship between marital status and graduation"
   ]
  },
  {
   "cell_type": "code",
   "execution_count": 5,
   "id": "2ad51f37",
   "metadata": {},
   "outputs": [
    {
     "data": {
      "text/plain": [
       "(51.80357467344271, 3.2981456114704644e-11)"
      ]
     },
     "execution_count": 5,
     "metadata": {},
     "output_type": "execute_result"
    }
   ],
   "source": [
    "\n",
    "observed = pd.crosstab(df.Target, df['Marital status'])\n",
    "chi2, p, degf, expected = stats.chi2_contingency(observed)\n",
    "chi2, p \n",
    "# this creates a crosstab of marital status and graduation factors and then puts them into the chi2 test function"
   ]
  },
  {
   "cell_type": "markdown",
   "id": "87debe33",
   "metadata": {},
   "source": [
    "<div class=\"alert alert-block alert-success\">\n",
    "<b>Highlights:</b>\n",
    "</br>\n",
    "\n",
    "* There is enough evidence to reject the null hypothesis and determine that there is a relationship between the two variables\n",
    "</br>\n",
    "\n",
    "    "
   ]
  },
  {
   "cell_type": "markdown",
   "id": "b79a3b26",
   "metadata": {},
   "source": [
    "## Does age at enrollment affect graduation?"
   ]
  },
  {
   "cell_type": "code",
   "execution_count": 20,
   "id": "1fec06b5",
   "metadata": {},
   "outputs": [
    {
     "data": {
      "image/png": "[encoded data removed]",
      "text/plain": [
       "<Figure size 640x480 with 1 Axes>"
      ]
     },
     "metadata": {},
     "output_type": "display_data"
    }
   ],
   "source": [
    "sns.boxplot(data = df, x = 'Target', y = 'Age at enrollment', order = ['Graduate', 'Dropout'])\n",
    "plt.show()\n",
    "#plots a box plot "
   ]
  },
  {
   "cell_type": "markdown",
   "id": "e9198778",
   "metadata": {},
   "source": [
    "### Chi squared test to determine if a relationship exists between age at enrollment and Graduation\n",
    "\n",
    "$H_0$ : There is no relationship between age at enrollment and graduation\n",
    "\n",
    "$H_a$ : There is a relationship between age at enrollment and graduation"
   ]
  },
  {
   "cell_type": "code",
   "execution_count": 7,
   "id": "5190a0fb",
   "metadata": {},
   "outputs": [
    {
     "data": {
      "text/plain": [
       "(476.65759642443675, 1.85433588705395e-73)"
      ]
     },
     "execution_count": 7,
     "metadata": {},
     "output_type": "execute_result"
    }
   ],
   "source": [
    "observed = pd.crosstab(df.Target, df['Age at enrollment'])\n",
    "chi2, p, degf, expected = stats.chi2_contingency(observed)\n",
    "chi2, p \n",
    "#cross tab and then chi2 test"
   ]
  },
  {
   "cell_type": "markdown",
   "id": "bc767d27",
   "metadata": {},
   "source": [
    "<div class=\"alert alert-block alert-success\">\n",
    "<b>Highlights:</b>\n",
    "</br>\n",
    "\n",
    "* There is enough evidence to reject the null hypothesis and determine that there is a relationship between the two variables\n",
    "</br>\n",
    "\n",
    "    "
   ]
  },
  {
   "cell_type": "markdown",
   "id": "63f65863",
   "metadata": {},
   "source": [
    "# Does nationality affect graduation?"
   ]
  },
  {
   "cell_type": "code",
   "execution_count": 8,
   "id": "e43b1718",
   "metadata": {
    "scrolled": false
   },
   "outputs": [
    {
     "data": {
      "image/png": "[encoded data removed]",
      "text/plain": [
       "<Figure size 618.75x500 with 1 Axes>"
      ]
     },
     "metadata": {},
     "output_type": "display_data"
    }
   ],
   "source": [
    "project.count_plots(df, 'Nacionality', 'Target')\n",
    "plt.title('Nationality vs Graduation')\n",
    "plt.show()\n",
    "\n",
    "# graph that shows percentages of each nationality that graduated or droped ou"
   ]
  },
  {
   "cell_type": "markdown",
   "id": "25f688b2",
   "metadata": {},
   "source": [
    "### Chi squared test to determine if a relationship exists between nationality and Graduation\n",
    "\n",
    "$H_0$ : There is no relationship between nationality and graduation\n",
    "\n",
    "$H_a$ : There is a relationship between nationality and graduation"
   ]
  },
  {
   "cell_type": "code",
   "execution_count": 9,
   "id": "39be748b",
   "metadata": {},
   "outputs": [
    {
     "data": {
      "text/plain": [
       "(3.1855188865064274, 0.3638967134481268)"
      ]
     },
     "execution_count": 9,
     "metadata": {},
     "output_type": "execute_result"
    }
   ],
   "source": [
    "observed = pd.crosstab(df.Target, df['Nacionality'])\n",
    "chi2, p, degf, expected = stats.chi2_contingency(observed)\n",
    "chi2, p \n",
    "\n",
    "#chi2 test"
   ]
  },
  {
   "cell_type": "markdown",
   "id": "65be8b6a",
   "metadata": {},
   "source": [
    "<div class=\"alert alert-block alert-success\">\n",
    "<b>Highlights:</b>\n",
    "</br>\n",
    "\n",
    "* There is NOT enough evidence to determine that there is a relationship between the two variables.\n",
    "</br>\n"
   ]
  },
  {
   "cell_type": "markdown",
   "id": "58c059bf",
   "metadata": {},
   "source": [
    "# Does mother's education level affect graduation?"
   ]
  },
  {
   "cell_type": "code",
   "execution_count": 10,
   "id": "f08c4b07",
   "metadata": {},
   "outputs": [
    {
     "data": {
      "image/png": "[encoded data removed]",
      "text/plain": [
       "<Figure size 618.75x500 with 1 Axes>"
      ]
     },
     "metadata": {},
     "output_type": "display_data"
    }
   ],
   "source": [
    "\n",
    "project.count_plots(df, 'Mother\\'s occupation', 'Target')\n",
    "sns.set(font_scale = 1)\n",
    "plt.title('Mother\\'s occupation vs Graduation')\n",
    "plt.show()"
   ]
  },
  {
   "cell_type": "markdown",
   "id": "8288014c",
   "metadata": {},
   "source": [
    "### Chi squared test to determine if a relationship exists between mother's occupation and Graduation\n",
    "\n",
    "$H_0$ : There is no relationship between mother's occupation and graduation\n",
    "\n",
    "$H_a$ : There is a relationship between mother's occupation and graduation"
   ]
  },
  {
   "cell_type": "code",
   "execution_count": 11,
   "id": "073cf6a0",
   "metadata": {},
   "outputs": [
    {
     "data": {
      "text/plain": [
       "(109.04448871632268, 5.98366716692188e-20)"
      ]
     },
     "execution_count": 11,
     "metadata": {},
     "output_type": "execute_result"
    }
   ],
   "source": [
    "observed = pd.crosstab(df.Target, df['Mother\\'s occupation'])\n",
    "chi2, p, degf, expected = stats.chi2_contingency(observed)\n",
    "chi2, p"
   ]
  },
  {
   "cell_type": "markdown",
   "id": "20c95a2c",
   "metadata": {},
   "source": [
    "<div class=\"alert alert-block alert-success\">\n",
    "<b>Highlights:</b>\n",
    "</br>\n",
    "\n",
    "* There is enough evidence to determine that there is a relationship between the two variables.\n",
    "</br>"
   ]
  },
  {
   "cell_type": "markdown",
   "id": "210f0520",
   "metadata": {},
   "source": [
    "# Is there a relationship between father's education and graduation?"
   ]
  },
  {
   "cell_type": "code",
   "execution_count": 12,
   "id": "b2c74ebb",
   "metadata": {},
   "outputs": [
    {
     "data": {
      "image/png": "[encoded data removed]",
      "text/plain": [
       "<Figure size 618.75x500 with 1 Axes>"
      ]
     },
     "metadata": {},
     "output_type": "display_data"
    }
   ],
   "source": [
    "x,y = 'Father\\'s qualification', 'Target'\n",
    "\n",
    "df1 = df.groupby(x)[y].value_counts(normalize=True)\n",
    "df1 = df1.mul(100)\n",
    "df1 = df1.rename('percent').reset_index()\n",
    "\n",
    "g = sns.catplot(x=x,y='percent',hue=y,kind='bar',data=df1)\n",
    "\n",
    "g.ax.set_ylim(0,100)\n",
    "plt.xticks(rotation=45, ha='right')\n",
    "\n",
    "\n",
    "for p in g.ax.patches:\n",
    "    txt = str(p.get_height().round(2)) + '%'\n",
    "    txt_x = p.get_x() \n",
    "    txt_y = p.get_height()\n",
    "    \n",
    "plt.show()"
   ]
  },
  {
   "cell_type": "markdown",
   "id": "437bfd99",
   "metadata": {},
   "source": [
    "### Chi squared test to determine if a relationship exists between father's education and Graduation\n",
    "\n",
    "$H_0$ : There is no relationship between father's education and graduation\n",
    "\n",
    "$H_a$ : There is a relationship between father's education and graduation"
   ]
  },
  {
   "cell_type": "code",
   "execution_count": 13,
   "id": "03a21982",
   "metadata": {},
   "outputs": [
    {
     "data": {
      "text/plain": [
       "(80.25232897829437, 3.1687742438418386e-15)"
      ]
     },
     "execution_count": 13,
     "metadata": {},
     "output_type": "execute_result"
    }
   ],
   "source": [
    "observed = pd.crosstab(df.Target, df['Father\\'s qualification'])\n",
    "chi2, p, degf, expected = stats.chi2_contingency(observed)\n",
    "chi2, p\n",
    "#chi2 test"
   ]
  },
  {
   "cell_type": "markdown",
   "id": "0048e22f",
   "metadata": {},
   "source": [
    "<div class=\"alert alert-block alert-success\">\n",
    "<b>Highlights:</b>\n",
    "</br>\n",
    "\n",
    "* There is enough evidence to determine that there is a relationship between the two variables.\n",
    "</br>"
   ]
  },
  {
   "cell_type": "markdown",
   "id": "3495f603",
   "metadata": {},
   "source": [
    "# Exploration Summary"
   ]
  },
  {
   "cell_type": "markdown",
   "id": "731d42cf",
   "metadata": {},
   "source": [
    "<div class=\"alert alert-block alert-success\">\n",
    "<b>Highlights:</b>\n",
    "</br>\n",
    "\n",
    "* There is a relationship between student's marital status and graduation\n",
    "</br>\n",
    "\n",
    "* A relationship exists between age at enrollment and graduation. Younger student's are more likely to graduate\n",
    "</br>\n",
    "\n",
    "* There is no signifigant relationship between nationality and whether or not a student graduates, however it appears that african students are more likely to graduate\n",
    "</br>\n",
    "\n",
    "* Father's education level seems to have a relationship with graduation\n",
    "</br>\n",
    "\n",
    "* Graduation and mother's occupation have a relatively weak relationship"
   ]
  },
  {
   "cell_type": "markdown",
   "id": "6c362504",
   "metadata": {},
   "source": [
    "# Modeling"
   ]
  },
  {
   "cell_type": "code",
   "execution_count": 14,
   "id": "9389e0a5",
   "metadata": {},
   "outputs": [],
   "source": [
    "train, test, validate = project.dummies(df)\n",
    "#adds dummies and splits data"
   ]
  },
  {
   "cell_type": "code",
   "execution_count": 15,
   "id": "5e67581c",
   "metadata": {},
   "outputs": [
    {
     "data": {
      "text/html": [
       "<div>\n",
       "<style scoped>\n",
       "    .dataframe tbody tr th:only-of-type {\n",
       "        vertical-align: middle;\n",
       "    }\n",
       "\n",
       "    .dataframe tbody tr th {\n",
       "        vertical-align: top;\n",
       "    }\n",
       "\n",
       "    .dataframe thead th {\n",
       "        text-align: right;\n",
       "    }\n",
       "</style>\n",
       "<table border=\"1\" class=\"dataframe\">\n",
       "  <thead>\n",
       "    <tr style=\"text-align: right;\">\n",
       "      <th></th>\n",
       "      <th>model</th>\n",
       "      <th>baseline</th>\n",
       "      <th>train accuracy</th>\n",
       "      <th>validate accuracy</th>\n",
       "    </tr>\n",
       "  </thead>\n",
       "  <tbody>\n",
       "    <tr>\n",
       "      <th>0</th>\n",
       "      <td>KNN</td>\n",
       "      <td>0.60854</td>\n",
       "      <td>0.731299</td>\n",
       "      <td>0.737385</td>\n",
       "    </tr>\n",
       "    <tr>\n",
       "      <th>0</th>\n",
       "      <td>decision tree</td>\n",
       "      <td>0.60854</td>\n",
       "      <td>0.781004</td>\n",
       "      <td>0.793578</td>\n",
       "    </tr>\n",
       "    <tr>\n",
       "      <th>0</th>\n",
       "      <td>random forest</td>\n",
       "      <td>0.60854</td>\n",
       "      <td>0.805118</td>\n",
       "      <td>0.791284</td>\n",
       "    </tr>\n",
       "  </tbody>\n",
       "</table>\n",
       "</div>"
      ],
      "text/plain": [
       "           model  baseline  train accuracy  validate accuracy\n",
       "0            KNN   0.60854        0.731299           0.737385\n",
       "0  decision tree   0.60854        0.781004           0.793578\n",
       "0  random forest   0.60854        0.805118           0.791284"
      ]
     },
     "execution_count": 15,
     "metadata": {},
     "output_type": "execute_result"
    }
   ],
   "source": [
    "project.model_tests(train, validate)\n",
    "# function runs KNN, decision tree, and random forest models and returns\n",
    "# a dataframe with the accuracy of each train and validate dataframes"
   ]
  },
  {
   "cell_type": "markdown",
   "id": "e7b2176e",
   "metadata": {},
   "source": [
    "<div class=\"alert alert-block alert-info\">\n",
    "<b>Summary:</b>\n",
    "</br>\n",
    "* Decision tree and random forest performed similarily\n",
    "    </br>\n",
    "* Random forest appears to have the best accuracy and beat the baseline by 20%\n",
    "</br>\n",
    "* Random forest will be used on the test dataset\n",
    "</br>"
   ]
  },
  {
   "cell_type": "code",
   "execution_count": 16,
   "id": "d76cf4c1",
   "metadata": {},
   "outputs": [
    {
     "data": {
      "text/plain": [
       "0.8236914600550964"
      ]
     },
     "execution_count": 16,
     "metadata": {},
     "output_type": "execute_result"
    }
   ],
   "source": [
    "project.testdf(test)"
   ]
  },
  {
   "cell_type": "markdown",
   "id": "d1022206",
   "metadata": {},
   "source": [
    "# Conclusion"
   ]
  },
  {
   "cell_type": "markdown",
   "id": "44445e59",
   "metadata": {},
   "source": [
    "## Summary"
   ]
  },
  {
   "cell_type": "markdown",
   "id": "dacc0bcc",
   "metadata": {},
   "source": [
    "<div class=\"alert alert-block alert-info\">\n",
    "\n",
    "\n",
    "* There is a relationship between student's marital status and graduation\n",
    "</br>\n",
    "\n",
    "* A relationship exists between age at enrollment and graduation. Younger student's are more likely to graduate\n",
    "</br>\n",
    "\n",
    "* There is no signifigant relationship between nationality and whether or not a student graduates, however it appears that african students are more likely to graduate\n",
    "</br>\n",
    "\n",
    "* Father's education level seems to have a relationship with graduation\n",
    "</br>\n",
    "\n",
    "* Graduation and mother's occupation have a relatively weak relationship\n",
    "</br>\n",
    "\n",
    "* Decision tree and random forest model performed similarily\n",
    "</br>\n",
    "\n",
    "* Random forest model performed the best on train and validate.\n",
    "</br>\n",
    "\n",
    "* Random forest model on test dataframe outperformed baseline by 20%"
   ]
  },
  {
   "cell_type": "markdown",
   "id": "20a8182d",
   "metadata": {},
   "source": [
    "## Recommendations"
   ]
  },
  {
   "cell_type": "markdown",
   "id": "d8721f38",
   "metadata": {},
   "source": [
    "<div class=\"alert alert-block alert-warning\">\n",
    "\n",
    "\n",
    "* Collect more data on students at one particular college and make model\n",
    "</br>\n",
    "\n",
    "* Allocate funds and give more support to students who are married or are considered first generation students\n",
    "</br>\n",
    "\n",
    "* Encourage younger people to apply and enroll in college"
   ]
  },
  {
   "cell_type": "markdown",
   "id": "dd4ddfce",
   "metadata": {},
   "source": [
    "## Next Steps"
   ]
  },
  {
   "cell_type": "markdown",
   "id": "234073b6",
   "metadata": {},
   "source": [
    "<div class=\"alert alert-block alert-warning\">\n",
    "\n",
    "\n",
    "* Try new features and combinations to improve accuracy of model\n",
    "</br>\n",
    "\n",
    "* Create new visuals through Tableau\n",
    "</br>\n",
    "\n",
    "* Create more functions to simplify process\n",
    "</br>\n",
    "\n",
    "* Develop model using academic data\n"
   ]
  },
  {
   "cell_type": "code",
   "execution_count": null,
   "id": "37c8c1df",
   "metadata": {},
   "outputs": [],
   "source": []
  }
 ],
 "metadata": {
  "kernelspec": {
   "display_name": "Python 3 (ipykernel)",
   "language": "python",
   "name": "python3"
  },
  "language_info": {
   "codemirror_mode": {
    "name": "ipython",
    "version": 3
   },
   "file_extension": ".py",
   "mimetype": "text/x-python",
   "name": "python",
   "nbconvert_exporter": "python",
   "pygments_lexer": "ipython3",
   "version": "3.9.13"
  }
 },
 "nbformat": 4,
 "nbformat_minor": 5
}
